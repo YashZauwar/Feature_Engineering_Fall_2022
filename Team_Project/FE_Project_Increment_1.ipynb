{
 "cells": [
  {
   "cell_type": "markdown",
   "id": "029f944a",
   "metadata": {},
   "source": [
    "# Feature Engineering Project - Fall 2022\n",
    "# Gold Price Prediction\n",
    "Submitted By :\n",
    "1. Yash Zauwar\n",
    "2. Goutham Pallapothu\n",
    "3. Veeranjaneyulu Muppalla\n",
    "4. Sai Manideep Reddy Pallerla"
   ]
  },
  {
   "cell_type": "markdown",
   "id": "49e93aa6",
   "metadata": {},
   "source": [
    "# 1. Importing Required Libraries"
   ]
  },
  {
   "cell_type": "code",
   "execution_count": 1,
   "id": "caf93023",
   "metadata": {},
   "outputs": [
    {
     "name": "stderr",
     "output_type": "stream",
     "text": [
      "C:\\Users\\yashz\\AppData\\Local\\Temp\\ipykernel_13476\\744351177.py:13: DeprecationWarning: `import kerastuner` is deprecated, please use `import keras_tuner`.\n",
      "  from kerastuner.engine.hyperparameters import HyperParameters\n"
     ]
    }
   ],
   "source": [
    "import numpy as np\n",
    "import pandas as pd\n",
    "import seaborn as sns\n",
    "import matplotlib.pyplot as plt\n",
    "import plotly.express as px\n",
    "from plotly import figure_factory as figfac\n",
    "from termcolor import colored\n",
    "from tensorflow.keras.models import Sequential\n",
    "from tensorflow.keras.layers import Dense, Dropout,LSTM\n",
    "from sklearn.preprocessing import MinMaxScaler, StandardScaler\n",
    "import math\n",
    "from sklearn.metrics import mean_squared_error\n",
    "from kerastuner.engine.hyperparameters import HyperParameters\n",
    "from tensorflow import keras\n",
    "from tensorflow.keras import layers\n",
    "from keras_tuner.tuners import RandomSearch\n",
    "\n",
    "import warnings\n",
    "warnings.filterwarnings(\"ignore\")"
   ]
  },
  {
   "cell_type": "markdown",
   "id": "20bb2085",
   "metadata": {},
   "source": [
    "# 2. Reading the Dataset"
   ]
  },
  {
   "cell_type": "code",
   "execution_count": 2,
   "id": "44b6fe6c",
   "metadata": {},
   "outputs": [
    {
     "data": {
      "text/html": [
       "<div>\n",
       "<style scoped>\n",
       "    .dataframe tbody tr th:only-of-type {\n",
       "        vertical-align: middle;\n",
       "    }\n",
       "\n",
       "    .dataframe tbody tr th {\n",
       "        vertical-align: top;\n",
       "    }\n",
       "\n",
       "    .dataframe thead th {\n",
       "        text-align: right;\n",
       "    }\n",
       "</style>\n",
       "<table border=\"1\" class=\"dataframe\">\n",
       "  <thead>\n",
       "    <tr style=\"text-align: right;\">\n",
       "      <th></th>\n",
       "      <th>High</th>\n",
       "      <th>Low</th>\n",
       "      <th>Open</th>\n",
       "      <th>Close</th>\n",
       "      <th>Volume</th>\n",
       "      <th>Adj Close</th>\n",
       "    </tr>\n",
       "    <tr>\n",
       "      <th>Date</th>\n",
       "      <th></th>\n",
       "      <th></th>\n",
       "      <th></th>\n",
       "      <th></th>\n",
       "      <th></th>\n",
       "      <th></th>\n",
       "    </tr>\n",
       "  </thead>\n",
       "  <tbody>\n",
       "    <tr>\n",
       "      <th>2004-11-18</th>\n",
       "      <td>44.490002</td>\n",
       "      <td>44.070000</td>\n",
       "      <td>44.430000</td>\n",
       "      <td>44.380001</td>\n",
       "      <td>5992000</td>\n",
       "      <td>44.380001</td>\n",
       "    </tr>\n",
       "    <tr>\n",
       "      <th>2004-11-19</th>\n",
       "      <td>44.919998</td>\n",
       "      <td>44.470001</td>\n",
       "      <td>44.490002</td>\n",
       "      <td>44.779999</td>\n",
       "      <td>11655300</td>\n",
       "      <td>44.779999</td>\n",
       "    </tr>\n",
       "    <tr>\n",
       "      <th>2004-11-22</th>\n",
       "      <td>44.970001</td>\n",
       "      <td>44.740002</td>\n",
       "      <td>44.750000</td>\n",
       "      <td>44.950001</td>\n",
       "      <td>11996000</td>\n",
       "      <td>44.950001</td>\n",
       "    </tr>\n",
       "    <tr>\n",
       "      <th>2004-11-23</th>\n",
       "      <td>44.919998</td>\n",
       "      <td>44.720001</td>\n",
       "      <td>44.880001</td>\n",
       "      <td>44.750000</td>\n",
       "      <td>3169200</td>\n",
       "      <td>44.750000</td>\n",
       "    </tr>\n",
       "    <tr>\n",
       "      <th>2004-11-24</th>\n",
       "      <td>45.049999</td>\n",
       "      <td>44.790001</td>\n",
       "      <td>44.930000</td>\n",
       "      <td>45.049999</td>\n",
       "      <td>6105100</td>\n",
       "      <td>45.049999</td>\n",
       "    </tr>\n",
       "  </tbody>\n",
       "</table>\n",
       "</div>"
      ],
      "text/plain": [
       "                 High        Low       Open      Close    Volume  Adj Close\n",
       "Date                                                                       \n",
       "2004-11-18  44.490002  44.070000  44.430000  44.380001   5992000  44.380001\n",
       "2004-11-19  44.919998  44.470001  44.490002  44.779999  11655300  44.779999\n",
       "2004-11-22  44.970001  44.740002  44.750000  44.950001  11996000  44.950001\n",
       "2004-11-23  44.919998  44.720001  44.880001  44.750000   3169200  44.750000\n",
       "2004-11-24  45.049999  44.790001  44.930000  45.049999   6105100  45.049999"
      ]
     },
     "execution_count": 2,
     "metadata": {},
     "output_type": "execute_result"
    }
   ],
   "source": [
    "import numpy as np\n",
    "import pandas as pd\n",
    "import matplotlib.pyplot as plt\n",
    "import pandas_datareader as data\n",
    "\n",
    "\n",
    "start = '2000-01-01'\n",
    "end = '2022-11-01'\n",
    "\n",
    "df = data.DataReader('GLD','yahoo',start,end)\n",
    "df.head()"
   ]
  },
  {
   "cell_type": "code",
   "execution_count": 3,
   "id": "cbba4682",
   "metadata": {},
   "outputs": [
    {
     "name": "stdout",
     "output_type": "stream",
     "text": [
      "<class 'pandas.core.frame.DataFrame'>\n",
      "DatetimeIndex: 4520 entries, 2004-11-18 to 2022-11-01\n",
      "Data columns (total 6 columns):\n",
      " #   Column     Non-Null Count  Dtype  \n",
      "---  ------     --------------  -----  \n",
      " 0   High       4520 non-null   float64\n",
      " 1   Low        4520 non-null   float64\n",
      " 2   Open       4520 non-null   float64\n",
      " 3   Close      4520 non-null   float64\n",
      " 4   Volume     4520 non-null   int64  \n",
      " 5   Adj Close  4520 non-null   float64\n",
      "dtypes: float64(5), int64(1)\n",
      "memory usage: 247.2 KB\n"
     ]
    }
   ],
   "source": [
    "df.info() #printing the dataframe info"
   ]
  },
  {
   "cell_type": "code",
   "execution_count": 4,
   "id": "a929dc85",
   "metadata": {},
   "outputs": [
    {
     "data": {
      "text/html": [
       "<div>\n",
       "<style scoped>\n",
       "    .dataframe tbody tr th:only-of-type {\n",
       "        vertical-align: middle;\n",
       "    }\n",
       "\n",
       "    .dataframe tbody tr th {\n",
       "        vertical-align: top;\n",
       "    }\n",
       "\n",
       "    .dataframe thead th {\n",
       "        text-align: right;\n",
       "    }\n",
       "</style>\n",
       "<table border=\"1\" class=\"dataframe\">\n",
       "  <thead>\n",
       "    <tr style=\"text-align: right;\">\n",
       "      <th></th>\n",
       "      <th>High</th>\n",
       "      <th>Low</th>\n",
       "      <th>Open</th>\n",
       "      <th>Close</th>\n",
       "      <th>Volume</th>\n",
       "      <th>Adj Close</th>\n",
       "    </tr>\n",
       "  </thead>\n",
       "  <tbody>\n",
       "    <tr>\n",
       "      <th>count</th>\n",
       "      <td>4520.000000</td>\n",
       "      <td>4520.000000</td>\n",
       "      <td>4520.000000</td>\n",
       "      <td>4520.000000</td>\n",
       "      <td>4.520000e+03</td>\n",
       "      <td>4520.000000</td>\n",
       "    </tr>\n",
       "    <tr>\n",
       "      <th>mean</th>\n",
       "      <td>119.310768</td>\n",
       "      <td>118.085945</td>\n",
       "      <td>118.723460</td>\n",
       "      <td>118.719071</td>\n",
       "      <td>9.686052e+06</td>\n",
       "      <td>118.719071</td>\n",
       "    </tr>\n",
       "    <tr>\n",
       "      <th>std</th>\n",
       "      <td>37.669187</td>\n",
       "      <td>37.387078</td>\n",
       "      <td>37.542858</td>\n",
       "      <td>37.535528</td>\n",
       "      <td>6.950362e+06</td>\n",
       "      <td>37.535528</td>\n",
       "    </tr>\n",
       "    <tr>\n",
       "      <th>min</th>\n",
       "      <td>41.360001</td>\n",
       "      <td>41.020000</td>\n",
       "      <td>41.029999</td>\n",
       "      <td>41.259998</td>\n",
       "      <td>3.193000e+05</td>\n",
       "      <td>41.259998</td>\n",
       "    </tr>\n",
       "    <tr>\n",
       "      <th>25%</th>\n",
       "      <td>93.677498</td>\n",
       "      <td>92.372498</td>\n",
       "      <td>93.017500</td>\n",
       "      <td>93.082497</td>\n",
       "      <td>5.320800e+06</td>\n",
       "      <td>93.082497</td>\n",
       "    </tr>\n",
       "    <tr>\n",
       "      <th>50%</th>\n",
       "      <td>121.349998</td>\n",
       "      <td>120.415001</td>\n",
       "      <td>120.844997</td>\n",
       "      <td>120.834999</td>\n",
       "      <td>8.044900e+06</td>\n",
       "      <td>120.834999</td>\n",
       "    </tr>\n",
       "    <tr>\n",
       "      <th>75%</th>\n",
       "      <td>150.380005</td>\n",
       "      <td>148.607506</td>\n",
       "      <td>149.652496</td>\n",
       "      <td>149.470005</td>\n",
       "      <td>1.194095e+07</td>\n",
       "      <td>149.470005</td>\n",
       "    </tr>\n",
       "    <tr>\n",
       "      <th>max</th>\n",
       "      <td>194.449997</td>\n",
       "      <td>192.520004</td>\n",
       "      <td>193.740005</td>\n",
       "      <td>193.889999</td>\n",
       "      <td>9.380420e+07</td>\n",
       "      <td>193.889999</td>\n",
       "    </tr>\n",
       "  </tbody>\n",
       "</table>\n",
       "</div>"
      ],
      "text/plain": [
       "              High          Low         Open        Close        Volume  \\\n",
       "count  4520.000000  4520.000000  4520.000000  4520.000000  4.520000e+03   \n",
       "mean    119.310768   118.085945   118.723460   118.719071  9.686052e+06   \n",
       "std      37.669187    37.387078    37.542858    37.535528  6.950362e+06   \n",
       "min      41.360001    41.020000    41.029999    41.259998  3.193000e+05   \n",
       "25%      93.677498    92.372498    93.017500    93.082497  5.320800e+06   \n",
       "50%     121.349998   120.415001   120.844997   120.834999  8.044900e+06   \n",
       "75%     150.380005   148.607506   149.652496   149.470005  1.194095e+07   \n",
       "max     194.449997   192.520004   193.740005   193.889999  9.380420e+07   \n",
       "\n",
       "         Adj Close  \n",
       "count  4520.000000  \n",
       "mean    118.719071  \n",
       "std      37.535528  \n",
       "min      41.259998  \n",
       "25%      93.082497  \n",
       "50%     120.834999  \n",
       "75%     149.470005  \n",
       "max     193.889999  "
      ]
     },
     "execution_count": 4,
     "metadata": {},
     "output_type": "execute_result"
    }
   ],
   "source": [
    "df.describe() # describe the data"
   ]
  },
  {
   "cell_type": "code",
   "execution_count": 5,
   "id": "3083945a",
   "metadata": {},
   "outputs": [
    {
     "data": {
      "text/html": [
       "<div>\n",
       "<style scoped>\n",
       "    .dataframe tbody tr th:only-of-type {\n",
       "        vertical-align: middle;\n",
       "    }\n",
       "\n",
       "    .dataframe tbody tr th {\n",
       "        vertical-align: top;\n",
       "    }\n",
       "\n",
       "    .dataframe thead th {\n",
       "        text-align: right;\n",
       "    }\n",
       "</style>\n",
       "<table border=\"1\" class=\"dataframe\">\n",
       "  <thead>\n",
       "    <tr style=\"text-align: right;\">\n",
       "      <th></th>\n",
       "      <th>High</th>\n",
       "      <th>Low</th>\n",
       "      <th>Open</th>\n",
       "      <th>Close</th>\n",
       "      <th>Volume</th>\n",
       "      <th>Adj Close</th>\n",
       "    </tr>\n",
       "    <tr>\n",
       "      <th>Date</th>\n",
       "      <th></th>\n",
       "      <th></th>\n",
       "      <th></th>\n",
       "      <th></th>\n",
       "      <th></th>\n",
       "      <th></th>\n",
       "    </tr>\n",
       "  </thead>\n",
       "  <tbody>\n",
       "    <tr>\n",
       "      <th>2004-11-18</th>\n",
       "      <td>44.490002</td>\n",
       "      <td>44.070000</td>\n",
       "      <td>44.430000</td>\n",
       "      <td>44.380001</td>\n",
       "      <td>5992000</td>\n",
       "      <td>44.380001</td>\n",
       "    </tr>\n",
       "    <tr>\n",
       "      <th>2004-11-19</th>\n",
       "      <td>44.919998</td>\n",
       "      <td>44.470001</td>\n",
       "      <td>44.490002</td>\n",
       "      <td>44.779999</td>\n",
       "      <td>11655300</td>\n",
       "      <td>44.779999</td>\n",
       "    </tr>\n",
       "    <tr>\n",
       "      <th>2004-11-22</th>\n",
       "      <td>44.970001</td>\n",
       "      <td>44.740002</td>\n",
       "      <td>44.750000</td>\n",
       "      <td>44.950001</td>\n",
       "      <td>11996000</td>\n",
       "      <td>44.950001</td>\n",
       "    </tr>\n",
       "    <tr>\n",
       "      <th>2004-11-23</th>\n",
       "      <td>44.919998</td>\n",
       "      <td>44.720001</td>\n",
       "      <td>44.880001</td>\n",
       "      <td>44.750000</td>\n",
       "      <td>3169200</td>\n",
       "      <td>44.750000</td>\n",
       "    </tr>\n",
       "    <tr>\n",
       "      <th>2004-11-24</th>\n",
       "      <td>45.049999</td>\n",
       "      <td>44.790001</td>\n",
       "      <td>44.930000</td>\n",
       "      <td>45.049999</td>\n",
       "      <td>6105100</td>\n",
       "      <td>45.049999</td>\n",
       "    </tr>\n",
       "    <tr>\n",
       "      <th>...</th>\n",
       "      <td>...</td>\n",
       "      <td>...</td>\n",
       "      <td>...</td>\n",
       "      <td>...</td>\n",
       "      <td>...</td>\n",
       "      <td>...</td>\n",
       "    </tr>\n",
       "    <tr>\n",
       "      <th>2022-10-26</th>\n",
       "      <td>155.729996</td>\n",
       "      <td>154.779999</td>\n",
       "      <td>154.779999</td>\n",
       "      <td>154.979996</td>\n",
       "      <td>4448200</td>\n",
       "      <td>154.979996</td>\n",
       "    </tr>\n",
       "    <tr>\n",
       "      <th>2022-10-27</th>\n",
       "      <td>155.089996</td>\n",
       "      <td>154.220001</td>\n",
       "      <td>154.710007</td>\n",
       "      <td>154.740005</td>\n",
       "      <td>3654900</td>\n",
       "      <td>154.740005</td>\n",
       "    </tr>\n",
       "    <tr>\n",
       "      <th>2022-10-28</th>\n",
       "      <td>153.539993</td>\n",
       "      <td>152.500000</td>\n",
       "      <td>152.960007</td>\n",
       "      <td>153.160004</td>\n",
       "      <td>4645400</td>\n",
       "      <td>153.160004</td>\n",
       "    </tr>\n",
       "    <tr>\n",
       "      <th>2022-10-31</th>\n",
       "      <td>152.869995</td>\n",
       "      <td>151.889999</td>\n",
       "      <td>152.160004</td>\n",
       "      <td>151.910004</td>\n",
       "      <td>6097800</td>\n",
       "      <td>151.910004</td>\n",
       "    </tr>\n",
       "    <tr>\n",
       "      <th>2022-11-01</th>\n",
       "      <td>153.979996</td>\n",
       "      <td>152.869995</td>\n",
       "      <td>153.820007</td>\n",
       "      <td>153.460007</td>\n",
       "      <td>4603600</td>\n",
       "      <td>153.460007</td>\n",
       "    </tr>\n",
       "  </tbody>\n",
       "</table>\n",
       "<p>4520 rows × 6 columns</p>\n",
       "</div>"
      ],
      "text/plain": [
       "                  High         Low        Open       Close    Volume  \\\n",
       "Date                                                                   \n",
       "2004-11-18   44.490002   44.070000   44.430000   44.380001   5992000   \n",
       "2004-11-19   44.919998   44.470001   44.490002   44.779999  11655300   \n",
       "2004-11-22   44.970001   44.740002   44.750000   44.950001  11996000   \n",
       "2004-11-23   44.919998   44.720001   44.880001   44.750000   3169200   \n",
       "2004-11-24   45.049999   44.790001   44.930000   45.049999   6105100   \n",
       "...                ...         ...         ...         ...       ...   \n",
       "2022-10-26  155.729996  154.779999  154.779999  154.979996   4448200   \n",
       "2022-10-27  155.089996  154.220001  154.710007  154.740005   3654900   \n",
       "2022-10-28  153.539993  152.500000  152.960007  153.160004   4645400   \n",
       "2022-10-31  152.869995  151.889999  152.160004  151.910004   6097800   \n",
       "2022-11-01  153.979996  152.869995  153.820007  153.460007   4603600   \n",
       "\n",
       "             Adj Close  \n",
       "Date                    \n",
       "2004-11-18   44.380001  \n",
       "2004-11-19   44.779999  \n",
       "2004-11-22   44.950001  \n",
       "2004-11-23   44.750000  \n",
       "2004-11-24   45.049999  \n",
       "...                ...  \n",
       "2022-10-26  154.979996  \n",
       "2022-10-27  154.740005  \n",
       "2022-10-28  153.160004  \n",
       "2022-10-31  151.910004  \n",
       "2022-11-01  153.460007  \n",
       "\n",
       "[4520 rows x 6 columns]"
      ]
     },
     "execution_count": 5,
     "metadata": {},
     "output_type": "execute_result"
    }
   ],
   "source": [
    "df #print the dataset"
   ]
  },
  {
   "cell_type": "code",
   "execution_count": 6,
   "id": "68afe25f",
   "metadata": {},
   "outputs": [],
   "source": [
    "df.rename(columns = {\"Date\" : \"date\", \"Open\" : \"open\", \"High\" : \"high\", \"Low\" : \"low\",\"Close\" : \"close\", \"Volume\" : \"volume\", \"Currency\" : \"currency\"}, inplace = True)\n",
    "#renaming the data frame columns to lower case"
   ]
  },
  {
   "cell_type": "markdown",
   "id": "3b51a6e6",
   "metadata": {},
   "source": [
    "# 3. Checking for missing values in the data frame."
   ]
  },
  {
   "cell_type": "code",
   "execution_count": 7,
   "id": "7fb09e1c",
   "metadata": {},
   "outputs": [
    {
     "name": "stdout",
     "output_type": "stream",
     "text": [
      "No missing value found\n"
     ]
    }
   ],
   "source": [
    "features_na = [features for features in df.columns if df[features].isnull().sum() > 0]\n",
    "for feature in features_na:\n",
    "    print(feature, np.round(df[feature].isnull().mean(), 4),  ' % missing values')\n",
    "else:\n",
    "    print(\"No missing value found\")"
   ]
  },
  {
   "cell_type": "code",
   "execution_count": 8,
   "id": "d6f2897b",
   "metadata": {},
   "outputs": [
    {
     "name": "stdout",
     "output_type": "stream",
     "text": [
      "high 3608\n",
      "low 3614\n",
      "open 3624\n",
      "close 3606\n",
      "volume 4453\n",
      "Adj Close 3606\n"
     ]
    }
   ],
   "source": [
    "for column in df.columns:\n",
    "    print(column,df[column].nunique())"
   ]
  },
  {
   "cell_type": "code",
   "execution_count": 9,
   "id": "9b433962",
   "metadata": {},
   "outputs": [
    {
     "data": {
      "text/plain": [
       "[]"
      ]
     },
     "execution_count": 9,
     "metadata": {},
     "output_type": "execute_result"
    }
   ],
   "source": [
    "categorical_features=[feature for feature in df.columns if ((df[feature].dtypes=='O') & (feature not in ['GLD']))]\n",
    "categorical_features"
   ]
  },
  {
   "cell_type": "code",
   "execution_count": 10,
   "id": "935065df",
   "metadata": {},
   "outputs": [],
   "source": [
    "for feature in categorical_features:\n",
    "    print('The feature is {} and number of categories are {}'.format(feature,len(df[feature].unique())))"
   ]
  },
  {
   "cell_type": "code",
   "execution_count": 11,
   "id": "1fce4428",
   "metadata": {},
   "outputs": [
    {
     "name": "stdout",
     "output_type": "stream",
     "text": [
      "Number of numerical variables:  6\n"
     ]
    },
    {
     "data": {
      "text/html": [
       "<div>\n",
       "<style scoped>\n",
       "    .dataframe tbody tr th:only-of-type {\n",
       "        vertical-align: middle;\n",
       "    }\n",
       "\n",
       "    .dataframe tbody tr th {\n",
       "        vertical-align: top;\n",
       "    }\n",
       "\n",
       "    .dataframe thead th {\n",
       "        text-align: right;\n",
       "    }\n",
       "</style>\n",
       "<table border=\"1\" class=\"dataframe\">\n",
       "  <thead>\n",
       "    <tr style=\"text-align: right;\">\n",
       "      <th></th>\n",
       "      <th>high</th>\n",
       "      <th>low</th>\n",
       "      <th>open</th>\n",
       "      <th>close</th>\n",
       "      <th>volume</th>\n",
       "      <th>Adj Close</th>\n",
       "    </tr>\n",
       "    <tr>\n",
       "      <th>Date</th>\n",
       "      <th></th>\n",
       "      <th></th>\n",
       "      <th></th>\n",
       "      <th></th>\n",
       "      <th></th>\n",
       "      <th></th>\n",
       "    </tr>\n",
       "  </thead>\n",
       "  <tbody>\n",
       "    <tr>\n",
       "      <th>2004-11-18</th>\n",
       "      <td>44.490002</td>\n",
       "      <td>44.070000</td>\n",
       "      <td>44.430000</td>\n",
       "      <td>44.380001</td>\n",
       "      <td>5992000</td>\n",
       "      <td>44.380001</td>\n",
       "    </tr>\n",
       "    <tr>\n",
       "      <th>2004-11-19</th>\n",
       "      <td>44.919998</td>\n",
       "      <td>44.470001</td>\n",
       "      <td>44.490002</td>\n",
       "      <td>44.779999</td>\n",
       "      <td>11655300</td>\n",
       "      <td>44.779999</td>\n",
       "    </tr>\n",
       "    <tr>\n",
       "      <th>2004-11-22</th>\n",
       "      <td>44.970001</td>\n",
       "      <td>44.740002</td>\n",
       "      <td>44.750000</td>\n",
       "      <td>44.950001</td>\n",
       "      <td>11996000</td>\n",
       "      <td>44.950001</td>\n",
       "    </tr>\n",
       "    <tr>\n",
       "      <th>2004-11-23</th>\n",
       "      <td>44.919998</td>\n",
       "      <td>44.720001</td>\n",
       "      <td>44.880001</td>\n",
       "      <td>44.750000</td>\n",
       "      <td>3169200</td>\n",
       "      <td>44.750000</td>\n",
       "    </tr>\n",
       "    <tr>\n",
       "      <th>2004-11-24</th>\n",
       "      <td>45.049999</td>\n",
       "      <td>44.790001</td>\n",
       "      <td>44.930000</td>\n",
       "      <td>45.049999</td>\n",
       "      <td>6105100</td>\n",
       "      <td>45.049999</td>\n",
       "    </tr>\n",
       "  </tbody>\n",
       "</table>\n",
       "</div>"
      ],
      "text/plain": [
       "                 high        low       open      close    volume  Adj Close\n",
       "Date                                                                       \n",
       "2004-11-18  44.490002  44.070000  44.430000  44.380001   5992000  44.380001\n",
       "2004-11-19  44.919998  44.470001  44.490002  44.779999  11655300  44.779999\n",
       "2004-11-22  44.970001  44.740002  44.750000  44.950001  11996000  44.950001\n",
       "2004-11-23  44.919998  44.720001  44.880001  44.750000   3169200  44.750000\n",
       "2004-11-24  45.049999  44.790001  44.930000  45.049999   6105100  45.049999"
      ]
     },
     "execution_count": 11,
     "metadata": {},
     "output_type": "execute_result"
    }
   ],
   "source": [
    "# list of numerical variables\n",
    "numerical_features = [feature for feature in df.columns if ((df[feature].dtypes != 'O') & (feature not in ['GLD']))]\n",
    "print('Number of numerical variables: ', len(numerical_features))\n",
    "\n",
    "# visualise the numerical variables\n",
    "df[numerical_features].head()"
   ]
  },
  {
   "cell_type": "code",
   "execution_count": 12,
   "id": "24ee8020",
   "metadata": {},
   "outputs": [
    {
     "name": "stdout",
     "output_type": "stream",
     "text": [
      "Discrete Variables Count: 0\n"
     ]
    }
   ],
   "source": [
    "discrete_feature=[feature for feature in numerical_features if len(df[feature].unique())<25]\n",
    "print(\"Discrete Variables Count: {}\".format(len(discrete_feature)))"
   ]
  },
  {
   "cell_type": "code",
   "execution_count": 13,
   "id": "382f98f4",
   "metadata": {},
   "outputs": [
    {
     "name": "stdout",
     "output_type": "stream",
     "text": [
      "Continuous feature Count 6\n"
     ]
    }
   ],
   "source": [
    "continuous_features=[feature for feature in numerical_features if feature not in discrete_feature+['GOD']]\n",
    "print(\"Continuous feature Count {}\".format(len(continuous_features)))"
   ]
  },
  {
   "cell_type": "code",
   "execution_count": 14,
   "id": "4ad803ed",
   "metadata": {},
   "outputs": [
    {
     "name": "stdout",
     "output_type": "stream",
     "text": [
      "Shape of the dataset:  (4520, 6)\n",
      "Length of the dataset:  4520\n",
      "Maximum closing price of gold during last twenty two years:  193.88999938964844\n",
      "Minimum closing price of gold during last twenty two years:  41.2599983215332\n"
     ]
    }
   ],
   "source": [
    "print(\"Shape of the dataset: \", df.shape)\n",
    "print(\"Length of the dataset: \", len(df))\n",
    "print(\"Maximum closing price of gold during last twenty two years: \", df[\"close\"].max())\n",
    "print(\"Minimum closing price of gold during last twenty two years: \", df[\"close\"].min())"
   ]
  },
  {
   "cell_type": "markdown",
   "id": "c5703078",
   "metadata": {},
   "source": [
    "# Correlation between dataframe columns"
   ]
  },
  {
   "cell_type": "code",
   "execution_count": 15,
   "id": "c30446bf",
   "metadata": {},
   "outputs": [],
   "source": [
    "corr = df.corr()"
   ]
  },
  {
   "cell_type": "code",
   "execution_count": 16,
   "id": "b3f2aee7",
   "metadata": {},
   "outputs": [
    {
     "data": {
      "text/html": [
       "<div>\n",
       "<style scoped>\n",
       "    .dataframe tbody tr th:only-of-type {\n",
       "        vertical-align: middle;\n",
       "    }\n",
       "\n",
       "    .dataframe tbody tr th {\n",
       "        vertical-align: top;\n",
       "    }\n",
       "\n",
       "    .dataframe thead th {\n",
       "        text-align: right;\n",
       "    }\n",
       "</style>\n",
       "<table border=\"1\" class=\"dataframe\">\n",
       "  <thead>\n",
       "    <tr style=\"text-align: right;\">\n",
       "      <th></th>\n",
       "      <th>high</th>\n",
       "      <th>low</th>\n",
       "      <th>open</th>\n",
       "      <th>close</th>\n",
       "      <th>volume</th>\n",
       "      <th>Adj Close</th>\n",
       "    </tr>\n",
       "  </thead>\n",
       "  <tbody>\n",
       "    <tr>\n",
       "      <th>high</th>\n",
       "      <td>1.000000</td>\n",
       "      <td>0.999755</td>\n",
       "      <td>0.999863</td>\n",
       "      <td>0.999850</td>\n",
       "      <td>0.264941</td>\n",
       "      <td>0.999850</td>\n",
       "    </tr>\n",
       "    <tr>\n",
       "      <th>low</th>\n",
       "      <td>0.999755</td>\n",
       "      <td>1.000000</td>\n",
       "      <td>0.999818</td>\n",
       "      <td>0.999865</td>\n",
       "      <td>0.250114</td>\n",
       "      <td>0.999865</td>\n",
       "    </tr>\n",
       "    <tr>\n",
       "      <th>open</th>\n",
       "      <td>0.999863</td>\n",
       "      <td>0.999818</td>\n",
       "      <td>1.000000</td>\n",
       "      <td>0.999710</td>\n",
       "      <td>0.259175</td>\n",
       "      <td>0.999710</td>\n",
       "    </tr>\n",
       "    <tr>\n",
       "      <th>close</th>\n",
       "      <td>0.999850</td>\n",
       "      <td>0.999865</td>\n",
       "      <td>0.999710</td>\n",
       "      <td>1.000000</td>\n",
       "      <td>0.256708</td>\n",
       "      <td>1.000000</td>\n",
       "    </tr>\n",
       "    <tr>\n",
       "      <th>volume</th>\n",
       "      <td>0.264941</td>\n",
       "      <td>0.250114</td>\n",
       "      <td>0.259175</td>\n",
       "      <td>0.256708</td>\n",
       "      <td>1.000000</td>\n",
       "      <td>0.256708</td>\n",
       "    </tr>\n",
       "    <tr>\n",
       "      <th>Adj Close</th>\n",
       "      <td>0.999850</td>\n",
       "      <td>0.999865</td>\n",
       "      <td>0.999710</td>\n",
       "      <td>1.000000</td>\n",
       "      <td>0.256708</td>\n",
       "      <td>1.000000</td>\n",
       "    </tr>\n",
       "  </tbody>\n",
       "</table>\n",
       "</div>"
      ],
      "text/plain": [
       "               high       low      open     close    volume  Adj Close\n",
       "high       1.000000  0.999755  0.999863  0.999850  0.264941   0.999850\n",
       "low        0.999755  1.000000  0.999818  0.999865  0.250114   0.999865\n",
       "open       0.999863  0.999818  1.000000  0.999710  0.259175   0.999710\n",
       "close      0.999850  0.999865  0.999710  1.000000  0.256708   1.000000\n",
       "volume     0.264941  0.250114  0.259175  0.256708  1.000000   0.256708\n",
       "Adj Close  0.999850  0.999865  0.999710  1.000000  0.256708   1.000000"
      ]
     },
     "execution_count": 16,
     "metadata": {},
     "output_type": "execute_result"
    }
   ],
   "source": [
    "corr"
   ]
  },
  {
   "cell_type": "code",
   "execution_count": 17,
   "id": "d3ecb58f",
   "metadata": {},
   "outputs": [
    {
     "data": {
      "image/png": "[encoded data removed]",
      "text/plain": [
       "<Figure size 1500x700 with 2 Axes>"
      ]
     },
     "metadata": {},
     "output_type": "display_data"
    }
   ],
   "source": [
    "plt.figure(figsize = [15, 7], clear = True, facecolor = '#EAEAE6')\n",
    "sns.heatmap(df.corr(), annot = True, square = False, linewidths = 5,\n",
    "            linecolor = \"white\", cmap = \"Oranges\");"
   ]
  },
  {
   "cell_type": "code",
   "execution_count": 18,
   "id": "51a20b5b",
   "metadata": {},
   "outputs": [
    {
     "name": "stdout",
     "output_type": "stream",
     "text": [
      "close        1.000000\n",
      "Adj Close    1.000000\n",
      "low          0.999865\n",
      "high         0.999850\n",
      "open         0.999710\n",
      "volume       0.256708\n",
      "Name: close, dtype: float64 \n",
      "\n"
     ]
    }
   ],
   "source": [
    "print (corr['close'].sort_values(ascending=False), '\\n')"
   ]
  },
  {
   "cell_type": "code",
   "execution_count": 19,
   "id": "9c060cda",
   "metadata": {},
   "outputs": [],
   "source": [
    "data = df.filter(['close'])"
   ]
  },
  {
   "cell_type": "code",
   "execution_count": 20,
   "id": "78368379",
   "metadata": {},
   "outputs": [
    {
     "data": {
      "text/html": [
       "<div>\n",
       "<style scoped>\n",
       "    .dataframe tbody tr th:only-of-type {\n",
       "        vertical-align: middle;\n",
       "    }\n",
       "\n",
       "    .dataframe tbody tr th {\n",
       "        vertical-align: top;\n",
       "    }\n",
       "\n",
       "    .dataframe thead th {\n",
       "        text-align: right;\n",
       "    }\n",
       "</style>\n",
       "<table border=\"1\" class=\"dataframe\">\n",
       "  <thead>\n",
       "    <tr style=\"text-align: right;\">\n",
       "      <th></th>\n",
       "      <th>close</th>\n",
       "    </tr>\n",
       "    <tr>\n",
       "      <th>Date</th>\n",
       "      <th></th>\n",
       "    </tr>\n",
       "  </thead>\n",
       "  <tbody>\n",
       "    <tr>\n",
       "      <th>2004-11-18</th>\n",
       "      <td>44.380001</td>\n",
       "    </tr>\n",
       "    <tr>\n",
       "      <th>2004-11-19</th>\n",
       "      <td>44.779999</td>\n",
       "    </tr>\n",
       "    <tr>\n",
       "      <th>2004-11-22</th>\n",
       "      <td>44.950001</td>\n",
       "    </tr>\n",
       "    <tr>\n",
       "      <th>2004-11-23</th>\n",
       "      <td>44.750000</td>\n",
       "    </tr>\n",
       "    <tr>\n",
       "      <th>2004-11-24</th>\n",
       "      <td>45.049999</td>\n",
       "    </tr>\n",
       "    <tr>\n",
       "      <th>...</th>\n",
       "      <td>...</td>\n",
       "    </tr>\n",
       "    <tr>\n",
       "      <th>2022-10-26</th>\n",
       "      <td>154.979996</td>\n",
       "    </tr>\n",
       "    <tr>\n",
       "      <th>2022-10-27</th>\n",
       "      <td>154.740005</td>\n",
       "    </tr>\n",
       "    <tr>\n",
       "      <th>2022-10-28</th>\n",
       "      <td>153.160004</td>\n",
       "    </tr>\n",
       "    <tr>\n",
       "      <th>2022-10-31</th>\n",
       "      <td>151.910004</td>\n",
       "    </tr>\n",
       "    <tr>\n",
       "      <th>2022-11-01</th>\n",
       "      <td>153.460007</td>\n",
       "    </tr>\n",
       "  </tbody>\n",
       "</table>\n",
       "<p>4520 rows × 1 columns</p>\n",
       "</div>"
      ],
      "text/plain": [
       "                 close\n",
       "Date                  \n",
       "2004-11-18   44.380001\n",
       "2004-11-19   44.779999\n",
       "2004-11-22   44.950001\n",
       "2004-11-23   44.750000\n",
       "2004-11-24   45.049999\n",
       "...                ...\n",
       "2022-10-26  154.979996\n",
       "2022-10-27  154.740005\n",
       "2022-10-28  153.160004\n",
       "2022-10-31  151.910004\n",
       "2022-11-01  153.460007\n",
       "\n",
       "[4520 rows x 1 columns]"
      ]
     },
     "execution_count": 20,
     "metadata": {},
     "output_type": "execute_result"
    }
   ],
   "source": [
    "data"
   ]
  },
  {
   "cell_type": "code",
   "execution_count": 21,
   "id": "1e493a66",
   "metadata": {},
   "outputs": [],
   "source": [
    "df2=df.copy()"
   ]
  },
  {
   "cell_type": "code",
   "execution_count": 22,
   "id": "5e8d035f",
   "metadata": {},
   "outputs": [
    {
     "data": {
      "text/html": [
       "<div>\n",
       "<style scoped>\n",
       "    .dataframe tbody tr th:only-of-type {\n",
       "        vertical-align: middle;\n",
       "    }\n",
       "\n",
       "    .dataframe tbody tr th {\n",
       "        vertical-align: top;\n",
       "    }\n",
       "\n",
       "    .dataframe thead th {\n",
       "        text-align: right;\n",
       "    }\n",
       "</style>\n",
       "<table border=\"1\" class=\"dataframe\">\n",
       "  <thead>\n",
       "    <tr style=\"text-align: right;\">\n",
       "      <th></th>\n",
       "      <th>high</th>\n",
       "      <th>low</th>\n",
       "      <th>open</th>\n",
       "      <th>close</th>\n",
       "      <th>volume</th>\n",
       "      <th>Adj Close</th>\n",
       "    </tr>\n",
       "    <tr>\n",
       "      <th>Date</th>\n",
       "      <th></th>\n",
       "      <th></th>\n",
       "      <th></th>\n",
       "      <th></th>\n",
       "      <th></th>\n",
       "      <th></th>\n",
       "    </tr>\n",
       "  </thead>\n",
       "  <tbody>\n",
       "    <tr>\n",
       "      <th>2004-11-18</th>\n",
       "      <td>44.490002</td>\n",
       "      <td>44.070000</td>\n",
       "      <td>44.430000</td>\n",
       "      <td>44.380001</td>\n",
       "      <td>5992000</td>\n",
       "      <td>44.380001</td>\n",
       "    </tr>\n",
       "    <tr>\n",
       "      <th>2004-11-19</th>\n",
       "      <td>44.919998</td>\n",
       "      <td>44.470001</td>\n",
       "      <td>44.490002</td>\n",
       "      <td>44.779999</td>\n",
       "      <td>11655300</td>\n",
       "      <td>44.779999</td>\n",
       "    </tr>\n",
       "    <tr>\n",
       "      <th>2004-11-22</th>\n",
       "      <td>44.970001</td>\n",
       "      <td>44.740002</td>\n",
       "      <td>44.750000</td>\n",
       "      <td>44.950001</td>\n",
       "      <td>11996000</td>\n",
       "      <td>44.950001</td>\n",
       "    </tr>\n",
       "    <tr>\n",
       "      <th>2004-11-23</th>\n",
       "      <td>44.919998</td>\n",
       "      <td>44.720001</td>\n",
       "      <td>44.880001</td>\n",
       "      <td>44.750000</td>\n",
       "      <td>3169200</td>\n",
       "      <td>44.750000</td>\n",
       "    </tr>\n",
       "    <tr>\n",
       "      <th>2004-11-24</th>\n",
       "      <td>45.049999</td>\n",
       "      <td>44.790001</td>\n",
       "      <td>44.930000</td>\n",
       "      <td>45.049999</td>\n",
       "      <td>6105100</td>\n",
       "      <td>45.049999</td>\n",
       "    </tr>\n",
       "  </tbody>\n",
       "</table>\n",
       "</div>"
      ],
      "text/plain": [
       "                 high        low       open      close    volume  Adj Close\n",
       "Date                                                                       \n",
       "2004-11-18  44.490002  44.070000  44.430000  44.380001   5992000  44.380001\n",
       "2004-11-19  44.919998  44.470001  44.490002  44.779999  11655300  44.779999\n",
       "2004-11-22  44.970001  44.740002  44.750000  44.950001  11996000  44.950001\n",
       "2004-11-23  44.919998  44.720001  44.880001  44.750000   3169200  44.750000\n",
       "2004-11-24  45.049999  44.790001  44.930000  45.049999   6105100  45.049999"
      ]
     },
     "execution_count": 22,
     "metadata": {},
     "output_type": "execute_result"
    }
   ],
   "source": [
    "df2.head()"
   ]
  },
  {
   "cell_type": "markdown",
   "id": "8c62881d",
   "metadata": {},
   "source": [
    "# Splitting the Data to Training and Testing"
   ]
  },
  {
   "cell_type": "code",
   "execution_count": 23,
   "id": "427f8a93",
   "metadata": {},
   "outputs": [],
   "source": [
    "X = df2.drop(['close'],axis=1)\n",
    "y = df2['close']\n",
    "from sklearn.model_selection import train_test_split\n",
    "X_train, X_test, y_train, y_test = train_test_split(X,y,test_size=0.2, random_state=0)"
   ]
  },
  {
   "cell_type": "code",
   "execution_count": 24,
   "id": "fff336b5",
   "metadata": {},
   "outputs": [
    {
     "data": {
      "text/plain": [
       "3616"
      ]
     },
     "execution_count": 24,
     "metadata": {},
     "output_type": "execute_result"
    }
   ],
   "source": [
    "len(X_train)"
   ]
  },
  {
   "cell_type": "code",
   "execution_count": 25,
   "id": "9ac7d3b8",
   "metadata": {},
   "outputs": [
    {
     "data": {
      "text/plain": [
       "904"
      ]
     },
     "execution_count": 25,
     "metadata": {},
     "output_type": "execute_result"
    }
   ],
   "source": [
    "len(X_test)"
   ]
  },
  {
   "cell_type": "code",
   "execution_count": 26,
   "id": "f737364c",
   "metadata": {},
   "outputs": [
    {
     "data": {
      "text/plain": [
       "array([[44.38000107],\n",
       "       [44.77999878],\n",
       "       [44.95000076],\n",
       "       [44.75      ],\n",
       "       [45.04999924]])"
      ]
     },
     "execution_count": 26,
     "metadata": {},
     "output_type": "execute_result"
    }
   ],
   "source": [
    "dataset = data.values\n",
    "dataset[0:5]"
   ]
  },
  {
   "cell_type": "code",
   "execution_count": 27,
   "id": "3ffe96fd",
   "metadata": {},
   "outputs": [
    {
     "name": "stdout",
     "output_type": "stream",
     "text": [
      "Training data length:  4294\n"
     ]
    }
   ],
   "source": [
    "training_data_len = int(np.ceil( len(dataset) * .95 ))\n",
    "print(\"Training data length: \", training_data_len)"
   ]
  },
  {
   "cell_type": "markdown",
   "id": "5af3328c",
   "metadata": {},
   "source": [
    "# Scaling the Data"
   ]
  },
  {
   "cell_type": "code",
   "execution_count": 28,
   "id": "897a24e8",
   "metadata": {},
   "outputs": [
    {
     "data": {
      "text/plain": [
       "array([[0.02044161],\n",
       "       [0.02306231],\n",
       "       [0.02417613],\n",
       "       ...,\n",
       "       [0.73314555],\n",
       "       [0.72495581],\n",
       "       [0.7351111 ]])"
      ]
     },
     "execution_count": 28,
     "metadata": {},
     "output_type": "execute_result"
    }
   ],
   "source": [
    "scaler = MinMaxScaler(feature_range = (0, 1))\n",
    "scaled_data = scaler.fit_transform(dataset)\n",
    "scaled_data"
   ]
  },
  {
   "cell_type": "code",
   "execution_count": 29,
   "id": "29bc4772",
   "metadata": {},
   "outputs": [
    {
     "name": "stdout",
     "output_type": "stream",
     "text": [
      "[array([2.04416086e-02, 2.30623104e-02, 2.41761280e-02, 2.28657646e-02,\n",
      "       2.48312972e-02, 2.64037382e-02, 2.71244393e-02, 2.52899206e-02,\n",
      "       2.69934005e-02, 2.41761280e-02, 2.84347777e-02, 2.56175052e-02,\n",
      "       2.52244137e-02, 1.80174276e-02, 1.65105185e-02, 1.42829083e-02,\n",
      "       1.73622585e-02, 1.50036094e-02, 1.78864138e-02, 1.58553493e-02,\n",
      "       1.91967522e-02, 2.01795310e-02, 1.93933229e-02, 1.80829596e-02,\n",
      "       1.97209075e-02, 2.10967778e-02, 2.03760767e-02, 1.57243105e-02,\n",
      "       1.68381281e-02, 1.66415573e-02, 1.15311677e-02, 9.69667396e-03,\n",
      "       9.23802554e-03, 5.83111576e-03, 3.80005128e-03, 4.52075239e-03,\n",
      "       6.22420727e-03, 8.77940210e-03, 8.77940210e-03, 6.94490838e-03,\n",
      "       6.94490838e-03, 6.55179187e-03, 6.48628495e-03, 9.69667396e-03,\n",
      "       9.89321972e-03, 6.42077803e-03, 9.36906437e-03, 8.91044094e-03,\n",
      "       9.36906437e-03, 6.28973919e-03, 5.50350617e-03, 5.89662268e-03,\n",
      "       2.75176558e-03, 1.37589529e-03, 6.55319148e-05, 0.00000000e+00,\n",
      "       3.27609588e-04, 3.21038901e-03, 5.37249233e-03, 8.45181751e-03])] \n",
      "\n",
      "[0.008648388261049633]\n",
      "[array([2.04416086e-02, 2.30623104e-02, 2.41761280e-02, 2.28657646e-02,\n",
      "       2.48312972e-02, 2.64037382e-02, 2.71244393e-02, 2.52899206e-02,\n",
      "       2.69934005e-02, 2.41761280e-02, 2.84347777e-02, 2.56175052e-02,\n",
      "       2.52244137e-02, 1.80174276e-02, 1.65105185e-02, 1.42829083e-02,\n",
      "       1.73622585e-02, 1.50036094e-02, 1.78864138e-02, 1.58553493e-02,\n",
      "       1.91967522e-02, 2.01795310e-02, 1.93933229e-02, 1.80829596e-02,\n",
      "       1.97209075e-02, 2.10967778e-02, 2.03760767e-02, 1.57243105e-02,\n",
      "       1.68381281e-02, 1.66415573e-02, 1.15311677e-02, 9.69667396e-03,\n",
      "       9.23802554e-03, 5.83111576e-03, 3.80005128e-03, 4.52075239e-03,\n",
      "       6.22420727e-03, 8.77940210e-03, 8.77940210e-03, 6.94490838e-03,\n",
      "       6.94490838e-03, 6.55179187e-03, 6.48628495e-03, 9.69667396e-03,\n",
      "       9.89321972e-03, 6.42077803e-03, 9.36906437e-03, 8.91044094e-03,\n",
      "       9.36906437e-03, 6.28973919e-03, 5.50350617e-03, 5.89662268e-03,\n",
      "       2.75176558e-03, 1.37589529e-03, 6.55319148e-05, 0.00000000e+00,\n",
      "       3.27609588e-04, 3.21038901e-03, 5.37249233e-03, 8.45181751e-03]), array([2.30623104e-02, 2.41761280e-02, 2.28657646e-02, 2.48312972e-02,\n",
      "       2.64037382e-02, 2.71244393e-02, 2.52899206e-02, 2.69934005e-02,\n",
      "       2.41761280e-02, 2.84347777e-02, 2.56175052e-02, 2.52244137e-02,\n",
      "       1.80174276e-02, 1.65105185e-02, 1.42829083e-02, 1.73622585e-02,\n",
      "       1.50036094e-02, 1.78864138e-02, 1.58553493e-02, 1.91967522e-02,\n",
      "       2.01795310e-02, 1.93933229e-02, 1.80829596e-02, 1.97209075e-02,\n",
      "       2.10967778e-02, 2.03760767e-02, 1.57243105e-02, 1.68381281e-02,\n",
      "       1.66415573e-02, 1.15311677e-02, 9.69667396e-03, 9.23802554e-03,\n",
      "       5.83111576e-03, 3.80005128e-03, 4.52075239e-03, 6.22420727e-03,\n",
      "       8.77940210e-03, 8.77940210e-03, 6.94490838e-03, 6.94490838e-03,\n",
      "       6.55179187e-03, 6.48628495e-03, 9.69667396e-03, 9.89321972e-03,\n",
      "       6.42077803e-03, 9.36906437e-03, 8.91044094e-03, 9.36906437e-03,\n",
      "       6.28973919e-03, 5.50350617e-03, 5.89662268e-03, 2.75176558e-03,\n",
      "       1.37589529e-03, 6.55319148e-05, 0.00000000e+00, 3.27609588e-04,\n",
      "       3.21038901e-03, 5.37249233e-03, 8.45181751e-03, 8.64838826e-03])] \n",
      "\n",
      "[0.008648388261049633, 0.008255271751378412]\n"
     ]
    }
   ],
   "source": [
    "# Create the training data set \n",
    "# Create the scaled training data set\n",
    "train_data = scaled_data[0:int(training_data_len), :]\n",
    "# Split the data into x_train and y_train data sets\n",
    "x_train = []\n",
    "y_train = []\n",
    "\n",
    "for i in range(60, len(train_data)):\n",
    "    x_train.append(train_data[i-60:i, 0])\n",
    "    y_train.append(train_data[i, 0])\n",
    "    if i<= 61:\n",
    "        print(x_train, \"\\n\")\n",
    "        print(y_train)"
   ]
  },
  {
   "cell_type": "code",
   "execution_count": 30,
   "id": "1409a3d4",
   "metadata": {},
   "outputs": [],
   "source": [
    "x_train = np.array(x_train)\n",
    "y_train = np.array(y_train)"
   ]
  },
  {
   "cell_type": "code",
   "execution_count": 31,
   "id": "84648f1e",
   "metadata": {},
   "outputs": [
    {
     "name": "stdout",
     "output_type": "stream",
     "text": [
      "The sape of x_train set: (4234, 60, 1)\n"
     ]
    }
   ],
   "source": [
    "x_train = np.reshape(x_train, (x_train.shape[0], x_train.shape[1], 1))\n",
    "print(\"The sape of x_train set:\", x_train.shape)"
   ]
  },
  {
   "cell_type": "markdown",
   "id": "47f315d1",
   "metadata": {},
   "source": [
    "# Importing Machine Learning Models"
   ]
  },
  {
   "cell_type": "code",
   "execution_count": 36,
   "id": "52acb690",
   "metadata": {},
   "outputs": [
    {
     "name": "stdout",
     "output_type": "stream",
     "text": [
      "4234/4234 [==============================] - 62s 14ms/step - loss: 8.8042e-04\n"
     ]
    },
    {
     "data": {
      "text/plain": [
       "<keras.callbacks.History at 0x26667e07430>"
      ]
     },
     "execution_count": 36,
     "metadata": {},
     "output_type": "execute_result"
    }
   ],
   "source": [
    "from keras.models import Sequential\n",
    "from keras.layers import Dense, LSTM\n",
    "\n",
    "model = Sequential()\n",
    "model.add(LSTM(128, return_sequences = True, input_shape = (x_train.shape[1], 1)))\n",
    "model.add(LSTM(64, return_sequences = False))\n",
    "model.add(Dense(25))\n",
    "model.add(Dense(1))\n",
    "\n",
    "model.compile(optimizer = \"adam\", loss = \"mean_squared_error\")\n",
    "\n",
    "model.fit(x_train, y_train, batch_size = 1, epochs = 1)"
   ]
  },
  {
   "cell_type": "code",
   "execution_count": 37,
   "id": "7e2c0b45",
   "metadata": {},
   "outputs": [],
   "source": [
    "# Create the testing data set\n",
    "# Create a new array containing scaled values from index 1543 to 2002 \n",
    "test_data = scaled_data[training_data_len - 60: , :]\n",
    "# Create the data sets x_test and y_test\n",
    "x_test = []\n",
    "y_test = dataset[training_data_len:, :]\n",
    "for i in range(60, len(test_data)):\n",
    "    x_test.append(test_data[i-60:i, 0])"
   ]
  },
  {
   "cell_type": "code",
   "execution_count": 38,
   "id": "04067d3e",
   "metadata": {},
   "outputs": [],
   "source": [
    "x_test = np.array(x_test)\n",
    "x_test = np.reshape(x_test, (x_test.shape[0], x_test.shape[1], 1 ))"
   ]
  },
  {
   "cell_type": "markdown",
   "id": "ae0124f9",
   "metadata": {},
   "source": [
    "# Predictions using the Model Trained Above"
   ]
  },
  {
   "cell_type": "code",
   "execution_count": 39,
   "id": "9b6fa97f",
   "metadata": {},
   "outputs": [
    {
     "name": "stdout",
     "output_type": "stream",
     "text": [
      "8/8 [==============================] - 1s 16ms/step\n"
     ]
    },
    {
     "data": {
      "text/plain": [
       "array([[166.87996],\n",
       "       [166.67578],\n",
       "       [166.59207],\n",
       "       [166.6861 ],\n",
       "       [166.24525],\n",
       "       [166.01465],\n",
       "       [166.60776],\n",
       "       [167.14212],\n",
       "       [167.23987],\n",
       "       [167.1248 ]], dtype=float32)"
      ]
     },
     "execution_count": 39,
     "metadata": {},
     "output_type": "execute_result"
    }
   ],
   "source": [
    "predictions = model.predict(x_test)\n",
    "predictions = scaler.inverse_transform(predictions)\n",
    "predictions[0:10]"
   ]
  },
  {
   "cell_type": "code",
   "execution_count": 40,
   "id": "ea47e8b6",
   "metadata": {
    "scrolled": true
   },
   "outputs": [
    {
     "name": "stdout",
     "output_type": "stream",
     "text": [
      "RMSE score of the model: 1.8861561013304986\n"
     ]
    }
   ],
   "source": [
    "rmse = np.sqrt(np.mean(((predictions - y_test) ** 2)))\n",
    "print(\"RMSE score of the model:\", rmse)"
   ]
  },
  {
   "cell_type": "markdown",
   "id": "9ab015f1",
   "metadata": {},
   "source": [
    "# Plotting the Data after applying the model to the testing data."
   ]
  },
  {
   "cell_type": "markdown",
   "id": "cf672ec4",
   "metadata": {},
   "source": [
    "This part of the project is in progress."
   ]
  }
 ],
 "metadata": {
  "kernelspec": {
   "display_name": "Python 3 (ipykernel)",
   "language": "python",
   "name": "python3"
  },
  "language_info": {
   "codemirror_mode": {
    "name": "ipython",
    "version": 3
   },
   "file_extension": ".py",
   "mimetype": "text/x-python",
   "name": "python",
   "nbconvert_exporter": "python",
   "pygments_lexer": "ipython3",
   "version": "3.9.13"
  }
 },
 "nbformat": 4,
 "nbformat_minor": 5
}
